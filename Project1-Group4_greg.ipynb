{
 "cells": [
  {
   "cell_type": "markdown",
   "id": "bf49ea0a",
   "metadata": {},
   "source": [
    "# Project1 - Group 4\n"
   ]
  },
  {
   "cell_type": "markdown",
   "id": "d5fa55aa",
   "metadata": {},
   "source": [
    "### Library dependencies"
   ]
  },
  {
   "cell_type": "code",
   "execution_count": 157,
   "id": "f4bcd468",
   "metadata": {},
   "outputs": [],
   "source": [
    "# Dependencies and Setup\n",
    "import matplotlib.pyplot as plt\n",
    "import pandas as pd\n",
    "import numpy as np\n",
    "# import requests\n",
    "# import time\n",
    "# from scipy.stats import linregress\n",
    "# import datetime\n",
    "\n",
    "from os import listdir\n",
    "from os.path import isfile, join\n",
    "# Reference: https://stackoverflow.com/questions/3207219/how-do-i-list-all-files-of-a-directory"
   ]
  },
  {
   "cell_type": "markdown",
   "id": "c8a0db68",
   "metadata": {},
   "source": [
    "# Data sources - load, consolidate, and merge"
   ]
  },
  {
   "cell_type": "code",
   "execution_count": 158,
   "id": "1dc63302",
   "metadata": {},
   "outputs": [],
   "source": [
    "# Paths to analysis data files:\n",
    "# Uber trips files from Kaggle\n",
    "uber2014_path = join(\"data\", \"kaggle_csv\", \"uber-raw-data-2014\")\n",
    "# New York city Weather for months corresponding to the Uber trips\n",
    "noaa2014_path = \"data/noaa_csv/2014\""
   ]
  },
  {
   "cell_type": "markdown",
   "id": "cb6201ed",
   "metadata": {},
   "source": [
    "### Consolidate Uber trips data"
   ]
  },
  {
   "cell_type": "code",
   "execution_count": 159,
   "id": "91d850d4",
   "metadata": {},
   "outputs": [],
   "source": [
    "# Read the Uber trips data and consolidate into one file\n",
    "# Uber trips files from Kaggle\n",
    "uber2014 = pd.DataFrame()\n",
    "files = [join(uber2014_path, f) for f in listdir(uber2014_path) if isfile(join(uber2014_path, f))]\n",
    "for f in files:\n",
    "    data = pd.read_csv(f)\n",
    "    if (len(uber2014)) == 0:    \n",
    "        uber2014 = data.copy(deep=True)\n",
    "    else:\n",
    "        combined = pd.concat([uber2014, data], axis=0, ignore_index=True)\n",
    "        uber2014 = combined.copy(deep=True)"
   ]
  },
  {
   "cell_type": "code",
   "execution_count": 160,
   "id": "26c51880",
   "metadata": {},
   "outputs": [],
   "source": [
    "# Check for and remove duplicate rows\n",
    "uber2014 = uber2014.drop_duplicates()"
   ]
  },
  {
   "cell_type": "code",
   "execution_count": 161,
   "id": "5eeb28e1",
   "metadata": {},
   "outputs": [],
   "source": [
    "# Convert from US-format date, and split orginal datetime into Date and Time columns\n",
    "uber2014[\"DateTime\"] = pd.to_datetime(uber2014[\"Date/Time\"], format='%m/%d/%Y %H:%M:%S')\n",
    "uber2014[\"Date\"] = uber2014[\"DateTime\"].dt.normalize()\n",
    "uber2014 = uber2014[[\"Date\", \"DateTime\", \"Lat\", \"Lon\", \"Base\"]]"
   ]
  },
  {
   "cell_type": "code",
   "execution_count": 162,
   "id": "c35cacbc",
   "metadata": {},
   "outputs": [
    {
     "name": "stdout",
     "output_type": "stream",
     "text": [
      "Total unique rows (Uber rides 2014 data): 4451746\n"
     ]
    }
   ],
   "source": [
    "# Write out the combined dataset\n",
    "uber2014.to_csv(join(\"data\", \"combined\", \"uber-combined-data-2014.csv\"), encoding = \"UTF-8\", index=False)\n",
    "print(f\"Total unique rows (Uber rides 2014 data): {len(uber2014)}\")"
   ]
  },
  {
   "cell_type": "markdown",
   "id": "5be0b9e3",
   "metadata": {},
   "source": [
    "### Consolidate New York City weather data for the trips period (& convert to metric units)"
   ]
  },
  {
   "cell_type": "code",
   "execution_count": 163,
   "id": "54a25c64",
   "metadata": {},
   "outputs": [],
   "source": [
    "# Formulas for conversion of temperature and rainfall to metric units\n",
    "def Convert_Fahrenheit_to_Celsius(deg_F):\n",
    "    deg_C = (deg_F - 32) / (9/5)\n",
    "    return deg_C\n",
    "\n",
    "def Inches_to_Millimetres(inches):\n",
    "    millimetres = inches * 25.4\n",
    "    return millimetres"
   ]
  },
  {
   "cell_type": "code",
   "execution_count": 164,
   "id": "50a620f9",
   "metadata": {},
   "outputs": [],
   "source": [
    "# Read the Weather data, convert to metric units, and consolidate into one file\n",
    "# Uber trips files from NOAA\n",
    "weather2014 = pd.DataFrame()\n",
    "files = [join(noaa2014_path, f) for f in listdir(noaa2014_path) if isfile(join(noaa2014_path, f))]\n",
    "for f in files:\n",
    "    data = pd.read_csv(f)\n",
    "    if (len(weather2014)) == 0:    \n",
    "        weather2014 = data.copy(deep=True)\n",
    "    else:\n",
    "        combined = pd.concat([weather2014, data], axis=0, ignore_index=True)\n",
    "        weather2014 = combined.copy(deep=True)\n",
    "        \n",
    "# Fix column names to remove newlines introduced by 'word wrap' in CSV file header\n",
    "weather2014.columns = [\"Year\", \"Month\", \"Day\", \"MaxTemp_(degF)\", \"MinTemp_(degF)\", \"Rain_MeltedSnow_Etc_(in)\", \"Snow_IcePellets_Hail_(in)\", \"Snow_IcePellets_Hail_IceOnGround_(in)\"]\n",
    "\n",
    "# We want to keep the 24-hour observation values only, so drop the \"Snow_IcePellets_Hail_IceOnGround_(in)\" column as that represented 'at observation time' data.\n",
    "weather2014 = weather2014[[\"Year\", \"Month\", \"Day\", \"MaxTemp_(degF)\", \"MinTemp_(degF)\", \"Rain_MeltedSnow_Etc_(in)\", \"Snow_IcePellets_Hail_(in)\"]]\n",
    "\n",
    "# Combine Year-Month-Day columns for form a date value in yyyy-mm-dd format\n",
    "weather2014[\"Date\"] = pd.to_datetime(dict(year=weather2014.Year, month=weather2014.Month, day=weather2014.Day))\n",
    "\n",
    "# Convert temperature and rainfall to metric units\n",
    "weather2014[\"MaxTemp_degC\"] = weather2014[\"MaxTemp_(degF)\"].apply(Convert_Fahrenheit_to_Celsius).round(3)\n",
    "weather2014[\"MinTemp_degC\"] = weather2014[\"MinTemp_(degF)\"].apply(Convert_Fahrenheit_to_Celsius).round(3)\n",
    "weather2014[\"Rain_MeltedSnow_Etc_mm\"] = weather2014[\"Rain_MeltedSnow_Etc_(in)\"].apply(Inches_to_Millimetres).round(3)\n",
    "weather2014[\"Snow_IcePellets_Hail_mm\"] = weather2014[\"Snow_IcePellets_Hail_(in)\"].apply(Inches_to_Millimetres).round(3)\n",
    "\n",
    "# Combine Rain & Snow readings into single 'Precipitation' value\n",
    "weather2014[\"Precipitation_mm\"] = weather2014[\"Rain_MeltedSnow_Etc_mm\"] + weather2014[\"Snow_IcePellets_Hail_mm\"]\n",
    "\n",
    "# Keep just the metric values\n",
    "weather2014 = weather2014[[\"Date\", \"MaxTemp_degC\", \"MinTemp_degC\", \"Precipitation_mm\"]]\n",
    "\n",
    "# Write out combined data with metric units\n",
    "weather2014.to_csv(join(\"data\", \"combined\", \"weather-combined-data-metric-2014.csv\"), encoding = \"UTF-8\", index=False)\n"
   ]
  },
  {
   "cell_type": "markdown",
   "id": "f3e672d2",
   "metadata": {},
   "source": [
    "## Merge Uber trips and Weather data"
   ]
  },
  {
   "cell_type": "code",
   "execution_count": 165,
   "id": "b2c0d71b",
   "metadata": {},
   "outputs": [
    {
     "data": {
      "text/html": [
       "<div>\n",
       "<style scoped>\n",
       "    .dataframe tbody tr th:only-of-type {\n",
       "        vertical-align: middle;\n",
       "    }\n",
       "\n",
       "    .dataframe tbody tr th {\n",
       "        vertical-align: top;\n",
       "    }\n",
       "\n",
       "    .dataframe thead th {\n",
       "        text-align: right;\n",
       "    }\n",
       "</style>\n",
       "<table border=\"1\" class=\"dataframe\">\n",
       "  <thead>\n",
       "    <tr style=\"text-align: right;\">\n",
       "      <th></th>\n",
       "      <th>Date</th>\n",
       "      <th>DateTime</th>\n",
       "      <th>Lat</th>\n",
       "      <th>Lon</th>\n",
       "      <th>Base</th>\n",
       "      <th>MaxTemp_degC</th>\n",
       "      <th>MinTemp_degC</th>\n",
       "      <th>Precipitation_mm</th>\n",
       "    </tr>\n",
       "  </thead>\n",
       "  <tbody>\n",
       "    <tr>\n",
       "      <th>0</th>\n",
       "      <td>2014-04-01</td>\n",
       "      <td>2014-04-01 00:11:00</td>\n",
       "      <td>40.7690</td>\n",
       "      <td>-73.9549</td>\n",
       "      <td>B02512</td>\n",
       "      <td>15.556</td>\n",
       "      <td>3.889</td>\n",
       "      <td>0.0</td>\n",
       "    </tr>\n",
       "    <tr>\n",
       "      <th>1</th>\n",
       "      <td>2014-04-01</td>\n",
       "      <td>2014-04-01 00:17:00</td>\n",
       "      <td>40.7267</td>\n",
       "      <td>-74.0345</td>\n",
       "      <td>B02512</td>\n",
       "      <td>15.556</td>\n",
       "      <td>3.889</td>\n",
       "      <td>0.0</td>\n",
       "    </tr>\n",
       "    <tr>\n",
       "      <th>2</th>\n",
       "      <td>2014-04-01</td>\n",
       "      <td>2014-04-01 00:21:00</td>\n",
       "      <td>40.7316</td>\n",
       "      <td>-73.9873</td>\n",
       "      <td>B02512</td>\n",
       "      <td>15.556</td>\n",
       "      <td>3.889</td>\n",
       "      <td>0.0</td>\n",
       "    </tr>\n",
       "    <tr>\n",
       "      <th>3</th>\n",
       "      <td>2014-04-01</td>\n",
       "      <td>2014-04-01 00:28:00</td>\n",
       "      <td>40.7588</td>\n",
       "      <td>-73.9776</td>\n",
       "      <td>B02512</td>\n",
       "      <td>15.556</td>\n",
       "      <td>3.889</td>\n",
       "      <td>0.0</td>\n",
       "    </tr>\n",
       "    <tr>\n",
       "      <th>4</th>\n",
       "      <td>2014-04-01</td>\n",
       "      <td>2014-04-01 00:33:00</td>\n",
       "      <td>40.7594</td>\n",
       "      <td>-73.9722</td>\n",
       "      <td>B02512</td>\n",
       "      <td>15.556</td>\n",
       "      <td>3.889</td>\n",
       "      <td>0.0</td>\n",
       "    </tr>\n",
       "  </tbody>\n",
       "</table>\n",
       "</div>"
      ],
      "text/plain": [
       "        Date            DateTime      Lat      Lon    Base  MaxTemp_degC  \\\n",
       "0 2014-04-01 2014-04-01 00:11:00  40.7690 -73.9549  B02512        15.556   \n",
       "1 2014-04-01 2014-04-01 00:17:00  40.7267 -74.0345  B02512        15.556   \n",
       "2 2014-04-01 2014-04-01 00:21:00  40.7316 -73.9873  B02512        15.556   \n",
       "3 2014-04-01 2014-04-01 00:28:00  40.7588 -73.9776  B02512        15.556   \n",
       "4 2014-04-01 2014-04-01 00:33:00  40.7594 -73.9722  B02512        15.556   \n",
       "\n",
       "   MinTemp_degC  Precipitation_mm  \n",
       "0         3.889               0.0  \n",
       "1         3.889               0.0  \n",
       "2         3.889               0.0  \n",
       "3         3.889               0.0  \n",
       "4         3.889               0.0  "
      ]
     },
     "execution_count": 165,
     "metadata": {},
     "output_type": "execute_result"
    }
   ],
   "source": [
    "# Merge the Uber data with the Weather data on the Date column\n",
    "Uber_Weather_df = pd.merge(uber2014, weather2014, on=\"Date\", how='left')\n",
    "\n",
    "# Display the first few rows of the merged DataFrame\n",
    "Uber_Weather_df.head()"
   ]
  },
  {
   "cell_type": "code",
   "execution_count": 166,
   "id": "6d081555",
   "metadata": {},
   "outputs": [
    {
     "name": "stdout",
     "output_type": "stream",
     "text": [
      "Number of rows in Uber_Weather_merged_data: 4,451,746\n"
     ]
    }
   ],
   "source": [
    "# Cross check the number of rows\n",
    "num_rows = len(Uber_Weather_df)\n",
    "print(f\"Number of rows in Uber_Weather_merged_data: {num_rows:,}\")"
   ]
  },
  {
   "cell_type": "markdown",
   "id": "99044136",
   "metadata": {},
   "source": [
    "# Exploratory Data Analysis"
   ]
  },
  {
   "cell_type": "code",
   "execution_count": 167,
   "id": "00ba8e18",
   "metadata": {},
   "outputs": [
    {
     "data": {
      "text/html": [
       "<div>\n",
       "<style scoped>\n",
       "    .dataframe tbody tr th:only-of-type {\n",
       "        vertical-align: middle;\n",
       "    }\n",
       "\n",
       "    .dataframe tbody tr th {\n",
       "        vertical-align: top;\n",
       "    }\n",
       "\n",
       "    .dataframe thead th {\n",
       "        text-align: right;\n",
       "    }\n",
       "</style>\n",
       "<table border=\"1\" class=\"dataframe\">\n",
       "  <thead>\n",
       "    <tr style=\"text-align: right;\">\n",
       "      <th></th>\n",
       "      <th>Date</th>\n",
       "      <th>DateTime</th>\n",
       "      <th>Lat</th>\n",
       "      <th>Lon</th>\n",
       "      <th>Base</th>\n",
       "      <th>MaxTemp_degC</th>\n",
       "      <th>MinTemp_degC</th>\n",
       "      <th>Precipitation_mm</th>\n",
       "      <th>TempBand</th>\n",
       "    </tr>\n",
       "  </thead>\n",
       "  <tbody>\n",
       "    <tr>\n",
       "      <th>0</th>\n",
       "      <td>2014-04-01</td>\n",
       "      <td>2014-04-01 00:11:00</td>\n",
       "      <td>40.7690</td>\n",
       "      <td>-73.9549</td>\n",
       "      <td>B02512</td>\n",
       "      <td>15.556</td>\n",
       "      <td>3.889</td>\n",
       "      <td>0.0</td>\n",
       "      <td>mild</td>\n",
       "    </tr>\n",
       "    <tr>\n",
       "      <th>1</th>\n",
       "      <td>2014-04-01</td>\n",
       "      <td>2014-04-01 00:17:00</td>\n",
       "      <td>40.7267</td>\n",
       "      <td>-74.0345</td>\n",
       "      <td>B02512</td>\n",
       "      <td>15.556</td>\n",
       "      <td>3.889</td>\n",
       "      <td>0.0</td>\n",
       "      <td>mild</td>\n",
       "    </tr>\n",
       "    <tr>\n",
       "      <th>2</th>\n",
       "      <td>2014-04-01</td>\n",
       "      <td>2014-04-01 00:21:00</td>\n",
       "      <td>40.7316</td>\n",
       "      <td>-73.9873</td>\n",
       "      <td>B02512</td>\n",
       "      <td>15.556</td>\n",
       "      <td>3.889</td>\n",
       "      <td>0.0</td>\n",
       "      <td>mild</td>\n",
       "    </tr>\n",
       "    <tr>\n",
       "      <th>3</th>\n",
       "      <td>2014-04-01</td>\n",
       "      <td>2014-04-01 00:28:00</td>\n",
       "      <td>40.7588</td>\n",
       "      <td>-73.9776</td>\n",
       "      <td>B02512</td>\n",
       "      <td>15.556</td>\n",
       "      <td>3.889</td>\n",
       "      <td>0.0</td>\n",
       "      <td>mild</td>\n",
       "    </tr>\n",
       "    <tr>\n",
       "      <th>4</th>\n",
       "      <td>2014-04-01</td>\n",
       "      <td>2014-04-01 00:33:00</td>\n",
       "      <td>40.7594</td>\n",
       "      <td>-73.9722</td>\n",
       "      <td>B02512</td>\n",
       "      <td>15.556</td>\n",
       "      <td>3.889</td>\n",
       "      <td>0.0</td>\n",
       "      <td>mild</td>\n",
       "    </tr>\n",
       "  </tbody>\n",
       "</table>\n",
       "</div>"
      ],
      "text/plain": [
       "        Date            DateTime      Lat      Lon    Base  MaxTemp_degC  \\\n",
       "0 2014-04-01 2014-04-01 00:11:00  40.7690 -73.9549  B02512        15.556   \n",
       "1 2014-04-01 2014-04-01 00:17:00  40.7267 -74.0345  B02512        15.556   \n",
       "2 2014-04-01 2014-04-01 00:21:00  40.7316 -73.9873  B02512        15.556   \n",
       "3 2014-04-01 2014-04-01 00:28:00  40.7588 -73.9776  B02512        15.556   \n",
       "4 2014-04-01 2014-04-01 00:33:00  40.7594 -73.9722  B02512        15.556   \n",
       "\n",
       "   MinTemp_degC  Precipitation_mm TempBand  \n",
       "0         3.889               0.0     mild  \n",
       "1         3.889               0.0     mild  \n",
       "2         3.889               0.0     mild  \n",
       "3         3.889               0.0     mild  \n",
       "4         3.889               0.0     mild  "
      ]
     },
     "execution_count": 167,
     "metadata": {},
     "output_type": "execute_result"
    }
   ],
   "source": [
    "# Assign categorical flag to the dataset, to define three groups: cold (0), mild (1), and hot (2) temperatures\n",
    "Uber_Weather_df[\"TempBand\"] = Uber_Weather_df[\"MaxTemp_degC\"].apply(lambda t: \"cold\" if t < 10 else (\"mild\" if (t >= 10 and t <= 25) else \"hot\") )\n",
    "#TempBand_DisplayOrder = [0, 1, 2]\n",
    "#Uber_Weather_df[\"TempBand_DisplayOrder\"] = Uber_Weather_df[\"MaxTemp_degC\"].apply(lambda t: \"0\" if t < 10 else (\"1\" if (t >= 10 and t <= 25) else \"2\") )\n",
    "\n",
    "# Uber_Weather_df[\"Precipitation_YN\"] = Uber_Weather_df[\"Precipitation\"].apply(lambda t: \"cold\" if t < 10 else (\"mild\" if (t >= 10 and t <= 25) else \"hot\") )\n",
    "\n",
    "Uber_Weather_df.head()\n",
    "\n",
    "# Split data set into three groups: cold, mild, and warm temperatures\n"
   ]
  },
  {
   "cell_type": "code",
   "execution_count": 168,
   "id": "31341401",
   "metadata": {},
   "outputs": [
    {
     "data": {
      "text/html": [
       "<div>\n",
       "<style scoped>\n",
       "    .dataframe tbody tr th:only-of-type {\n",
       "        vertical-align: middle;\n",
       "    }\n",
       "\n",
       "    .dataframe tbody tr th {\n",
       "        vertical-align: top;\n",
       "    }\n",
       "\n",
       "    .dataframe thead th {\n",
       "        text-align: right;\n",
       "    }\n",
       "</style>\n",
       "<table border=\"1\" class=\"dataframe\">\n",
       "  <thead>\n",
       "    <tr style=\"text-align: right;\">\n",
       "      <th></th>\n",
       "      <th>Date</th>\n",
       "      <th>TempBand</th>\n",
       "      <th>MaxTemp_degC</th>\n",
       "      <th>Precipitation_mm</th>\n",
       "      <th>Trips</th>\n",
       "    </tr>\n",
       "  </thead>\n",
       "  <tbody>\n",
       "    <tr>\n",
       "      <th>0</th>\n",
       "      <td>2014-04-01</td>\n",
       "      <td>mild</td>\n",
       "      <td>15.556</td>\n",
       "      <td>0.000</td>\n",
       "      <td>14376</td>\n",
       "    </tr>\n",
       "    <tr>\n",
       "      <th>1</th>\n",
       "      <td>2014-04-02</td>\n",
       "      <td>mild</td>\n",
       "      <td>12.222</td>\n",
       "      <td>0.000</td>\n",
       "      <td>17230</td>\n",
       "    </tr>\n",
       "    <tr>\n",
       "      <th>2</th>\n",
       "      <td>2014-04-03</td>\n",
       "      <td>mild</td>\n",
       "      <td>19.444</td>\n",
       "      <td>1.778</td>\n",
       "      <td>20482</td>\n",
       "    </tr>\n",
       "    <tr>\n",
       "      <th>3</th>\n",
       "      <td>2014-04-04</td>\n",
       "      <td>cold</td>\n",
       "      <td>8.333</td>\n",
       "      <td>5.334</td>\n",
       "      <td>26353</td>\n",
       "    </tr>\n",
       "    <tr>\n",
       "      <th>4</th>\n",
       "      <td>2014-04-05</td>\n",
       "      <td>mild</td>\n",
       "      <td>12.222</td>\n",
       "      <td>0.000</td>\n",
       "      <td>19273</td>\n",
       "    </tr>\n",
       "  </tbody>\n",
       "</table>\n",
       "</div>"
      ],
      "text/plain": [
       "        Date TempBand  MaxTemp_degC  Precipitation_mm  Trips\n",
       "0 2014-04-01     mild        15.556             0.000  14376\n",
       "1 2014-04-02     mild        12.222             0.000  17230\n",
       "2 2014-04-03     mild        19.444             1.778  20482\n",
       "3 2014-04-04     cold         8.333             5.334  26353\n",
       "4 2014-04-05     mild        12.222             0.000  19273"
      ]
     },
     "execution_count": 168,
     "metadata": {},
     "output_type": "execute_result"
    }
   ],
   "source": [
    "trips_df = Uber_Weather_df.groupby([\"Date\", \"TempBand\", \"MaxTemp_degC\", \"Precipitation_mm\"]).size().reset_index(name=\"Trips\")\n",
    "\n",
    "trips_df.head()\n",
    "\n",
    "\n",
    "#trips = trips_grp.reset_index()\n",
    "\n",
    "#trips.head()\n",
    "\n",
    "#mild_trips = trips_grp[ Uber_Weather_df[\"TempBand\"] == \"mild\" ]\n",
    "\n",
    "#mild_trips.head()"
   ]
  },
  {
   "cell_type": "code",
   "execution_count": 154,
   "id": "97867c97",
   "metadata": {},
   "outputs": [
    {
     "data": {
      "image/png": "[encoded data removed]",
      "text/plain": [
       "<Figure size 640x480 with 1 Axes>"
      ]
     },
     "metadata": {},
     "output_type": "display_data"
    }
   ],
   "source": [
    "ax = trips_df.boxplot(\"Trips\", by=\"TempBand\", positions=[0, 2, 1])"
   ]
  },
  {
   "cell_type": "code",
   "execution_count": 153,
   "id": "49c95965",
   "metadata": {},
   "outputs": [
    {
     "data": {
      "text/plain": [
       "<Axes: xlabel='TempBand', ylabel='Trips'>"
      ]
     },
     "execution_count": 153,
     "metadata": {},
     "output_type": "execute_result"
    },
    {
     "data": {
      "image/png": "[encoded data removed]",
      "text/plain": [
       "<Figure size 640x480 with 1 Axes>"
      ]
     },
     "metadata": {},
     "output_type": "display_data"
    }
   ],
   "source": [
    "trips_df.plot(kind='scatter', x=\"TempBand\", y=\"Trips\", legend=False)"
   ]
  },
  {
   "cell_type": "code",
   "execution_count": 152,
   "id": "4bde1e60",
   "metadata": {},
   "outputs": [
    {
     "data": {
      "text/plain": [
       "<Axes: xlabel='MaxTemp_degC', ylabel='Trips'>"
      ]
     },
     "execution_count": 152,
     "metadata": {},
     "output_type": "execute_result"
    },
    {
     "data": {
      "image/png": "[encoded data removed]",
      "text/plain": [
       "<Figure size 640x480 with 1 Axes>"
      ]
     },
     "metadata": {},
     "output_type": "display_data"
    }
   ],
   "source": [
    "trips_df.plot(kind='scatter', x=\"MaxTemp_degC\", y=\"Trips\", legend=False)"
   ]
  },
  {
   "cell_type": "code",
   "execution_count": 151,
   "id": "54c43f79",
   "metadata": {},
   "outputs": [
    {
     "data": {
      "text/plain": [
       "<Axes: xlabel='Date', ylabel='MaxTemp_degC'>"
      ]
     },
     "execution_count": 151,
     "metadata": {},
     "output_type": "execute_result"
    },
    {
     "data": {
      "image/png": "[encoded data removed]",
      "text/plain": [
       "<Figure size 640x480 with 1 Axes>"
      ]
     },
     "metadata": {},
     "output_type": "display_data"
    }
   ],
   "source": [
    "trips_df.plot(kind='scatter', x=\"Date\", y=\"MaxTemp_degC\", legend=False)"
   ]
  },
  {
   "cell_type": "code",
   "execution_count": 150,
   "id": "76e14eaf",
   "metadata": {},
   "outputs": [
    {
     "data": {
      "text/plain": [
       "<Axes: xlabel='Date', ylabel='Trips'>"
      ]
     },
     "execution_count": 150,
     "metadata": {},
     "output_type": "execute_result"
    },
    {
     "data": {
      "image/png": "[encoded data removed]",
      "text/plain": [
       "<Figure size 640x480 with 1 Axes>"
      ]
     },
     "metadata": {},
     "output_type": "display_data"
    }
   ],
   "source": [
    "trips_df.plot(kind='scatter', x=\"Date\", y=\"Trips\", legend=False)"
   ]
  },
  {
   "cell_type": "code",
   "execution_count": 122,
   "id": "b664b31f",
   "metadata": {},
   "outputs": [
    {
     "data": {
      "text/html": [
       "<div>\n",
       "<style scoped>\n",
       "    .dataframe tbody tr th:only-of-type {\n",
       "        vertical-align: middle;\n",
       "    }\n",
       "\n",
       "    .dataframe tbody tr th {\n",
       "        vertical-align: top;\n",
       "    }\n",
       "\n",
       "    .dataframe thead th {\n",
       "        text-align: right;\n",
       "    }\n",
       "</style>\n",
       "<table border=\"1\" class=\"dataframe\">\n",
       "  <thead>\n",
       "    <tr style=\"text-align: right;\">\n",
       "      <th></th>\n",
       "      <th>Trips</th>\n",
       "    </tr>\n",
       "    <tr>\n",
       "      <th>TempBand</th>\n",
       "      <th></th>\n",
       "    </tr>\n",
       "  </thead>\n",
       "  <tbody>\n",
       "    <tr>\n",
       "      <th>cold</th>\n",
       "      <td>82346</td>\n",
       "    </tr>\n",
       "    <tr>\n",
       "      <th>hot</th>\n",
       "      <td>2399431</td>\n",
       "    </tr>\n",
       "    <tr>\n",
       "      <th>mild</th>\n",
       "      <td>1969969</td>\n",
       "    </tr>\n",
       "  </tbody>\n",
       "</table>\n",
       "</div>"
      ],
      "text/plain": [
       "            Trips\n",
       "TempBand         \n",
       "cold        82346\n",
       "hot       2399431\n",
       "mild      1969969"
      ]
     },
     "execution_count": 122,
     "metadata": {},
     "output_type": "execute_result"
    }
   ],
   "source": [
    "Uber_Weather_grp = Uber_Weather_df.groupby(\"TempBand\")\n",
    "\n",
    "# Uber_Weather_grp[\"MaxTemp_degC\"].count()\n",
    "# tmp = pd.DataFrame(Uber_Weather_grp[\"MaxTemp_degC\"].count())\n",
    "\n",
    "tmp = pd.DataFrame(Uber_Weather_grp[\"Trips\"].count())\n",
    "tmp"
   ]
  },
  {
   "cell_type": "code",
   "execution_count": 56,
   "id": "4aec8b16",
   "metadata": {},
   "outputs": [
    {
     "data": {
      "text/html": [
       "<div>\n",
       "<style scoped>\n",
       "    .dataframe tbody tr th:only-of-type {\n",
       "        vertical-align: middle;\n",
       "    }\n",
       "\n",
       "    .dataframe tbody tr th {\n",
       "        vertical-align: top;\n",
       "    }\n",
       "\n",
       "    .dataframe thead th {\n",
       "        text-align: right;\n",
       "    }\n",
       "</style>\n",
       "<table border=\"1\" class=\"dataframe\">\n",
       "  <thead>\n",
       "    <tr style=\"text-align: right;\">\n",
       "      <th></th>\n",
       "      <th></th>\n",
       "      <th>MaxTemp_degC</th>\n",
       "    </tr>\n",
       "    <tr>\n",
       "      <th>TempBand</th>\n",
       "      <th>TempBand_DisplayOrder</th>\n",
       "      <th></th>\n",
       "    </tr>\n",
       "  </thead>\n",
       "  <tbody>\n",
       "    <tr>\n",
       "      <th>cold</th>\n",
       "      <th>0</th>\n",
       "      <td>82346</td>\n",
       "    </tr>\n",
       "    <tr>\n",
       "      <th>hot</th>\n",
       "      <th>2</th>\n",
       "      <td>2399431</td>\n",
       "    </tr>\n",
       "    <tr>\n",
       "      <th>mild</th>\n",
       "      <th>1</th>\n",
       "      <td>1969969</td>\n",
       "    </tr>\n",
       "  </tbody>\n",
       "</table>\n",
       "</div>"
      ],
      "text/plain": [
       "                                MaxTemp_degC\n",
       "TempBand TempBand_DisplayOrder              \n",
       "cold     0                             82346\n",
       "hot      2                           2399431\n",
       "mild     1                           1969969"
      ]
     },
     "execution_count": 56,
     "metadata": {},
     "output_type": "execute_result"
    }
   ],
   "source": [
    "# Uber_Weather_grp = Uber_Weather_df.groupby([\"TempBand\", \"TempBand_DisplayOrder\"])\n",
    "# #Uber_Weather_grp = Uber_Weather_df.groupby([\"TempBand\"])\n",
    "# #Uber_Weather_grp[[\"MaxTemp_degC\"].count()\n",
    "# Uber_Weather_grp[\"MaxTemp_degC\"].count()#.sort_values([\"TempBand_DisplayOrder\"])\n",
    "# #type(Uber_Weather_grp[\"MaxTemp_degC\"].count())\n",
    "# tmp = pd.DataFrame(Uber_Weather_grp[\"MaxTemp_degC\"].count())\n",
    "# tmp"
   ]
  },
  {
   "cell_type": "markdown",
   "id": "1054a376",
   "metadata": {},
   "source": [
    "# Statistical Analysis"
   ]
  },
  {
   "cell_type": "markdown",
   "id": "2a3b1d7d",
   "metadata": {},
   "source": [
    "### REVISIT: describe Null & Alternative Hypothesis (1)"
   ]
  },
  {
   "cell_type": "code",
   "execution_count": 171,
   "id": "d3c12200",
   "metadata": {},
   "outputs": [
    {
     "data": {
      "image/png": "[encoded data removed]",
      "text/plain": [
       "<Figure size 640x480 with 1 Axes>"
      ]
     },
     "metadata": {},
     "output_type": "display_data"
    }
   ],
   "source": [
    "# Create a boxplot to compare means\n",
    "ax = trips_df.boxplot(\"Trips\", by=\"TempBand\", positions=[0, 2, 1])\n",
    "ax.set_ylabel(\"Trips\")\n",
    "plt.show()"
   ]
  },
  {
   "cell_type": "code",
   "execution_count": null,
   "id": "57e2279a",
   "metadata": {},
   "outputs": [],
   "source": []
  },
  {
   "cell_type": "code",
   "execution_count": null,
   "id": "f5d5a331",
   "metadata": {},
   "outputs": [],
   "source": []
  },
  {
   "cell_type": "code",
   "execution_count": null,
   "id": "5abdaa83",
   "metadata": {},
   "outputs": [],
   "source": []
  },
  {
   "cell_type": "markdown",
   "id": "0bbc7f3c",
   "metadata": {},
   "source": [
    "# Other Exploratory Data Analysis"
   ]
  },
  {
   "cell_type": "code",
   "execution_count": null,
   "id": "082346e9",
   "metadata": {},
   "outputs": [],
   "source": []
  }
 ],
 "metadata": {
  "kernelspec": {
   "display_name": "Python 3 (ipykernel)",
   "language": "python",
   "name": "python3"
  },
  "language_info": {
   "codemirror_mode": {
    "name": "ipython",
    "version": 3
   },
   "file_extension": ".py",
   "mimetype": "text/x-python",
   "name": "python",
   "nbconvert_exporter": "python",
   "pygments_lexer": "ipython3",
   "version": "3.10.14"
  }
 },
 "nbformat": 4,
 "nbformat_minor": 5
}
