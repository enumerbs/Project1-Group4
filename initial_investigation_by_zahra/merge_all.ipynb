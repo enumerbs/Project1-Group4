{
 "cells": [
  {
   "cell_type": "markdown",
   "id": "7430acae",
   "metadata": {},
   "source": [
    "UberData"
   ]
  },
  {
   "cell_type": "code",
   "execution_count": 7,
   "id": "a97a679a",
   "metadata": {},
   "outputs": [],
   "source": [
    "# 2014 Uberdata_ processing\n",
    "\n",
    "# Dependencies\n",
    "from pathlib import Path\n",
    "import pandas as pd\n",
    "import matplotlib.pyplot as plt\n",
    "import seaborn as sns\n",
    "\n",
    "\n",
    "# Path to 2014data CSV file \n",
    "Uber_trips_apr14 = Path(\"Raw_Data/uber-raw-data-apr14.csv\")\n",
    "Uber_trips_may14 = Path(\"Raw_Data/uber-raw-data-may14.csv\")\n",
    "Uber_trips_jun14 = Path(\"Raw_Data/uber-raw-data-jun14.csv\")\n",
    "Uber_trips_jul14 = Path(\"Raw_Data/uber-raw-data-jul14.csv\")\n",
    "Uber_trips_aug14 = Path(\"Raw_Data/uber-raw-data-aug14.csv\")\n",
    "Uber_trips_sep14 = Path(\"Raw_Data/uber-raw-data-sep14.csv\")\n",
    "\n",
    "Weather_data = Path(\"Raw_Data/Weather_data.csv\")\n",
    "\n",
    "\n",
    "# Read all CSV file into DataFrame\n",
    "df_apr14 = pd.read_csv(Uber_trips_apr14)\n",
    "df_may14 = pd.read_csv(Uber_trips_may14)\n",
    "df_jun14 = pd.read_csv(Uber_trips_jun14)\n",
    "df_jul14 = pd.read_csv(Uber_trips_jul14)\n",
    "df_aug14 = pd.read_csv(Uber_trips_aug14)\n",
    "df_sep14 = pd.read_csv(Uber_trips_sep14)\n",
    "\n",
    "df_Weather = pd.read_csv(Weather_data)\n",
    "\n",
    "\n",
    "\n"
   ]
  },
  {
   "cell_type": "code",
   "execution_count": 8,
   "id": "449a23c3",
   "metadata": {},
   "outputs": [
    {
     "data": {
      "text/html": [
       "<div>\n",
       "<style scoped>\n",
       "    .dataframe tbody tr th:only-of-type {\n",
       "        vertical-align: middle;\n",
       "    }\n",
       "\n",
       "    .dataframe tbody tr th {\n",
       "        vertical-align: top;\n",
       "    }\n",
       "\n",
       "    .dataframe thead th {\n",
       "        text-align: right;\n",
       "    }\n",
       "</style>\n",
       "<table border=\"1\" class=\"dataframe\">\n",
       "  <thead>\n",
       "    <tr style=\"text-align: right;\">\n",
       "      <th></th>\n",
       "      <th>Date/Time</th>\n",
       "      <th>Lat</th>\n",
       "      <th>Lon</th>\n",
       "      <th>Base</th>\n",
       "    </tr>\n",
       "  </thead>\n",
       "  <tbody>\n",
       "    <tr>\n",
       "      <th>0</th>\n",
       "      <td>4/1/2014 0:11:00</td>\n",
       "      <td>40.7690</td>\n",
       "      <td>-73.9549</td>\n",
       "      <td>B02512</td>\n",
       "    </tr>\n",
       "    <tr>\n",
       "      <th>1</th>\n",
       "      <td>4/1/2014 0:17:00</td>\n",
       "      <td>40.7267</td>\n",
       "      <td>-74.0345</td>\n",
       "      <td>B02512</td>\n",
       "    </tr>\n",
       "    <tr>\n",
       "      <th>2</th>\n",
       "      <td>4/1/2014 0:21:00</td>\n",
       "      <td>40.7316</td>\n",
       "      <td>-73.9873</td>\n",
       "      <td>B02512</td>\n",
       "    </tr>\n",
       "    <tr>\n",
       "      <th>3</th>\n",
       "      <td>4/1/2014 0:28:00</td>\n",
       "      <td>40.7588</td>\n",
       "      <td>-73.9776</td>\n",
       "      <td>B02512</td>\n",
       "    </tr>\n",
       "    <tr>\n",
       "      <th>4</th>\n",
       "      <td>4/1/2014 0:33:00</td>\n",
       "      <td>40.7594</td>\n",
       "      <td>-73.9722</td>\n",
       "      <td>B02512</td>\n",
       "    </tr>\n",
       "  </tbody>\n",
       "</table>\n",
       "</div>"
      ],
      "text/plain": [
       "          Date/Time      Lat      Lon    Base\n",
       "0  4/1/2014 0:11:00  40.7690 -73.9549  B02512\n",
       "1  4/1/2014 0:17:00  40.7267 -74.0345  B02512\n",
       "2  4/1/2014 0:21:00  40.7316 -73.9873  B02512\n",
       "3  4/1/2014 0:28:00  40.7588 -73.9776  B02512\n",
       "4  4/1/2014 0:33:00  40.7594 -73.9722  B02512"
      ]
     },
     "execution_count": 8,
     "metadata": {},
     "output_type": "execute_result"
    }
   ],
   "source": [
    "# Concatenate all DataFrames into one\n",
    "combined_df = pd.concat([df_apr14, df_may14, df_jun14, df_jul14, df_aug14, df_sep14], ignore_index=True)\n",
    "\n",
    "combined_df.head()\n"
   ]
  },
  {
   "cell_type": "code",
   "execution_count": 9,
   "id": "8e67084d",
   "metadata": {},
   "outputs": [
    {
     "name": "stdout",
     "output_type": "stream",
     "text": [
      "Number of rows in combined_df: 4534327\n"
     ]
    }
   ],
   "source": [
    "# Count the number of rows in combined_df\n",
    "num_rows = len(combined_df)\n",
    "print(\"Number of rows in combined_df:\", num_rows)"
   ]
  },
  {
   "cell_type": "code",
   "execution_count": 10,
   "id": "340e5e29",
   "metadata": {},
   "outputs": [
    {
     "name": "stdout",
     "output_type": "stream",
     "text": [
      "Missing data counts:\n",
      "Date/Time    0\n",
      "Lat          0\n",
      "Lon          0\n",
      "Base         0\n",
      "dtype: int64\n"
     ]
    }
   ],
   "source": [
    "# Check for missing data\n",
    "missing_data = combined_df.isnull()\n",
    "\n",
    "# Summarize missing data counts\n",
    "missing_counts = missing_data.sum()\n",
    "\n",
    "# Print or use missing_counts as needed\n",
    "print(\"Missing data counts:\")\n",
    "print(missing_counts)"
   ]
  },
  {
   "cell_type": "code",
   "execution_count": 11,
   "id": "9880c4b4",
   "metadata": {},
   "outputs": [
    {
     "name": "stdout",
     "output_type": "stream",
     "text": [
      "Number of duplicate rows in combined_df: 82581\n"
     ]
    }
   ],
   "source": [
    "# Check for duplicates\n",
    "duplicates = combined_df.duplicated()\n",
    "\n",
    "# Count the number of duplicates\n",
    "num_duplicates = duplicates.sum()\n",
    "\n",
    "# Print or use num_duplicates as needed\n",
    "print(\"Number of duplicate rows in combined_df:\", num_duplicates)\n"
   ]
  },
  {
   "cell_type": "code",
   "execution_count": 12,
   "id": "8a668180",
   "metadata": {},
   "outputs": [
    {
     "name": "stdout",
     "output_type": "stream",
     "text": [
      "Shape of cleaned DataFrame: (4451746, 4)\n"
     ]
    }
   ],
   "source": [
    "# Remove duplicates- check with others whether it's a correct approach\n",
    "combined_df_cleaned = combined_df.drop_duplicates()\n",
    "\n",
    "# Print the shape to see how many rows are left after removing duplicates\n",
    "print(\"Shape of cleaned DataFrame:\", combined_df_cleaned.shape)\n",
    "\n",
    "\n"
   ]
  },
  {
   "cell_type": "code",
   "execution_count": 13,
   "id": "46138c64",
   "metadata": {},
   "outputs": [
    {
     "data": {
      "text/html": [
       "<div>\n",
       "<style scoped>\n",
       "    .dataframe tbody tr th:only-of-type {\n",
       "        vertical-align: middle;\n",
       "    }\n",
       "\n",
       "    .dataframe tbody tr th {\n",
       "        vertical-align: top;\n",
       "    }\n",
       "\n",
       "    .dataframe thead th {\n",
       "        text-align: right;\n",
       "    }\n",
       "</style>\n",
       "<table border=\"1\" class=\"dataframe\">\n",
       "  <thead>\n",
       "    <tr style=\"text-align: right;\">\n",
       "      <th></th>\n",
       "      <th>Date/Time</th>\n",
       "      <th>Lat</th>\n",
       "      <th>Lon</th>\n",
       "      <th>Base</th>\n",
       "    </tr>\n",
       "  </thead>\n",
       "  <tbody>\n",
       "    <tr>\n",
       "      <th>0</th>\n",
       "      <td>4/1/2014 0:11:00</td>\n",
       "      <td>40.7690</td>\n",
       "      <td>-73.9549</td>\n",
       "      <td>B02512</td>\n",
       "    </tr>\n",
       "    <tr>\n",
       "      <th>1</th>\n",
       "      <td>4/1/2014 0:17:00</td>\n",
       "      <td>40.7267</td>\n",
       "      <td>-74.0345</td>\n",
       "      <td>B02512</td>\n",
       "    </tr>\n",
       "    <tr>\n",
       "      <th>2</th>\n",
       "      <td>4/1/2014 0:21:00</td>\n",
       "      <td>40.7316</td>\n",
       "      <td>-73.9873</td>\n",
       "      <td>B02512</td>\n",
       "    </tr>\n",
       "    <tr>\n",
       "      <th>3</th>\n",
       "      <td>4/1/2014 0:28:00</td>\n",
       "      <td>40.7588</td>\n",
       "      <td>-73.9776</td>\n",
       "      <td>B02512</td>\n",
       "    </tr>\n",
       "    <tr>\n",
       "      <th>4</th>\n",
       "      <td>4/1/2014 0:33:00</td>\n",
       "      <td>40.7594</td>\n",
       "      <td>-73.9722</td>\n",
       "      <td>B02512</td>\n",
       "    </tr>\n",
       "  </tbody>\n",
       "</table>\n",
       "</div>"
      ],
      "text/plain": [
       "          Date/Time      Lat      Lon    Base\n",
       "0  4/1/2014 0:11:00  40.7690 -73.9549  B02512\n",
       "1  4/1/2014 0:17:00  40.7267 -74.0345  B02512\n",
       "2  4/1/2014 0:21:00  40.7316 -73.9873  B02512\n",
       "3  4/1/2014 0:28:00  40.7588 -73.9776  B02512\n",
       "4  4/1/2014 0:33:00  40.7594 -73.9722  B02512"
      ]
     },
     "execution_count": 13,
     "metadata": {},
     "output_type": "execute_result"
    }
   ],
   "source": [
    "combined_df_cleaned.head()"
   ]
  },
  {
   "cell_type": "code",
   "execution_count": 14,
   "id": "a80ed582",
   "metadata": {},
   "outputs": [
    {
     "name": "stdout",
     "output_type": "stream",
     "text": [
      "Missing data counts:\n",
      "Date                0\n",
      "Temperature _Max    0\n",
      "Temperature _Min    0\n",
      "Temperature _Ave    0\n",
      "Temperature _Dep    0\n",
      "HDD                 0\n",
      "CDD                 0\n",
      "Precipitation       0\n",
      "New Snow            0\n",
      "Snow Depth          0\n",
      "dtype: int64\n"
     ]
    }
   ],
   "source": [
    "# Check for missing data\n",
    "missing_data = df_Weather.isnull()\n",
    "\n",
    "# Summarize missing data counts\n",
    "missing_counts = missing_data.sum()\n",
    "\n",
    "# Print or use missing_counts as needed\n",
    "print(\"Missing data counts:\")\n",
    "print(missing_counts)"
   ]
  },
  {
   "cell_type": "markdown",
   "id": "f9f220c0",
   "metadata": {},
   "source": [
    "Merge both Uber and Weather data "
   ]
  },
  {
   "cell_type": "code",
   "execution_count": 15,
   "id": "b04ca5b2",
   "metadata": {},
   "outputs": [
    {
     "name": "stdout",
     "output_type": "stream",
     "text": [
      "Uber Data:\n",
      "          Date/Time      Lat      Lon    Base\n",
      "0  4/1/2014 0:11:00  40.7690 -73.9549  B02512\n",
      "1  4/1/2014 0:17:00  40.7267 -74.0345  B02512\n",
      "2  4/1/2014 0:21:00  40.7316 -73.9873  B02512\n",
      "3  4/1/2014 0:28:00  40.7588 -73.9776  B02512\n",
      "4  4/1/2014 0:33:00  40.7594 -73.9722  B02512\n",
      "\n",
      "Weather Data:\n",
      "       Date  Temperature _Max  Temperature _Min  Temperature _Ave  \\\n",
      "0  1/4/2014                60                39              49.5   \n",
      "1  2/4/2014                54                42              48.0   \n",
      "2  3/4/2014                67                46              56.5   \n",
      "3  4/4/2014                47                40              43.5   \n",
      "4  5/4/2014                54                40              47.0   \n",
      "\n",
      "   Temperature _Dep  HDD  CDD Precipitation New Snow  Snow Depth  \n",
      "0               1.4   15    0             0        0           0  \n",
      "1              -0.4   17    0             0        0           0  \n",
      "2               7.7    8    0          0.07        0           0  \n",
      "3              -5.7   21    0          0.21        0           0  \n",
      "4              -2.6   18    0             0        0           0  \n"
     ]
    }
   ],
   "source": [
    "# Print the first few rows to check the structure and column names\n",
    "print(\"Uber Data:\")\n",
    "print(combined_df_cleaned.head())\n",
    "print(\"\\nWeather Data:\")\n",
    "print(df_Weather.head())\n"
   ]
  },
  {
   "cell_type": "code",
   "execution_count": 22,
   "id": "1a01e66c",
   "metadata": {},
   "outputs": [
    {
     "data": {
      "text/html": [
       "<div>\n",
       "<style scoped>\n",
       "    .dataframe tbody tr th:only-of-type {\n",
       "        vertical-align: middle;\n",
       "    }\n",
       "\n",
       "    .dataframe tbody tr th {\n",
       "        vertical-align: top;\n",
       "    }\n",
       "\n",
       "    .dataframe thead th {\n",
       "        text-align: right;\n",
       "    }\n",
       "</style>\n",
       "<table border=\"1\" class=\"dataframe\">\n",
       "  <thead>\n",
       "    <tr style=\"text-align: right;\">\n",
       "      <th></th>\n",
       "      <th>Date/Time</th>\n",
       "      <th>Lat</th>\n",
       "      <th>Lon</th>\n",
       "      <th>Base</th>\n",
       "      <th>Date</th>\n",
       "      <th>Temperature _Max</th>\n",
       "      <th>Temperature _Min</th>\n",
       "      <th>Temperature _Ave</th>\n",
       "      <th>Temperature _Dep</th>\n",
       "      <th>HDD</th>\n",
       "      <th>CDD</th>\n",
       "      <th>Precipitation</th>\n",
       "      <th>New Snow</th>\n",
       "      <th>Snow Depth</th>\n",
       "    </tr>\n",
       "  </thead>\n",
       "  <tbody>\n",
       "    <tr>\n",
       "      <th>0</th>\n",
       "      <td>2014-04-01 00:11:00</td>\n",
       "      <td>40.7690</td>\n",
       "      <td>-73.9549</td>\n",
       "      <td>B02512</td>\n",
       "      <td>2014-04-01</td>\n",
       "      <td>60</td>\n",
       "      <td>39</td>\n",
       "      <td>49.5</td>\n",
       "      <td>1.4</td>\n",
       "      <td>15</td>\n",
       "      <td>0</td>\n",
       "      <td>0</td>\n",
       "      <td>0</td>\n",
       "      <td>0</td>\n",
       "    </tr>\n",
       "    <tr>\n",
       "      <th>1</th>\n",
       "      <td>2014-04-01 00:17:00</td>\n",
       "      <td>40.7267</td>\n",
       "      <td>-74.0345</td>\n",
       "      <td>B02512</td>\n",
       "      <td>2014-04-01</td>\n",
       "      <td>60</td>\n",
       "      <td>39</td>\n",
       "      <td>49.5</td>\n",
       "      <td>1.4</td>\n",
       "      <td>15</td>\n",
       "      <td>0</td>\n",
       "      <td>0</td>\n",
       "      <td>0</td>\n",
       "      <td>0</td>\n",
       "    </tr>\n",
       "    <tr>\n",
       "      <th>2</th>\n",
       "      <td>2014-04-01 00:21:00</td>\n",
       "      <td>40.7316</td>\n",
       "      <td>-73.9873</td>\n",
       "      <td>B02512</td>\n",
       "      <td>2014-04-01</td>\n",
       "      <td>60</td>\n",
       "      <td>39</td>\n",
       "      <td>49.5</td>\n",
       "      <td>1.4</td>\n",
       "      <td>15</td>\n",
       "      <td>0</td>\n",
       "      <td>0</td>\n",
       "      <td>0</td>\n",
       "      <td>0</td>\n",
       "    </tr>\n",
       "    <tr>\n",
       "      <th>3</th>\n",
       "      <td>2014-04-01 00:28:00</td>\n",
       "      <td>40.7588</td>\n",
       "      <td>-73.9776</td>\n",
       "      <td>B02512</td>\n",
       "      <td>2014-04-01</td>\n",
       "      <td>60</td>\n",
       "      <td>39</td>\n",
       "      <td>49.5</td>\n",
       "      <td>1.4</td>\n",
       "      <td>15</td>\n",
       "      <td>0</td>\n",
       "      <td>0</td>\n",
       "      <td>0</td>\n",
       "      <td>0</td>\n",
       "    </tr>\n",
       "    <tr>\n",
       "      <th>4</th>\n",
       "      <td>2014-04-01 00:33:00</td>\n",
       "      <td>40.7594</td>\n",
       "      <td>-73.9722</td>\n",
       "      <td>B02512</td>\n",
       "      <td>2014-04-01</td>\n",
       "      <td>60</td>\n",
       "      <td>39</td>\n",
       "      <td>49.5</td>\n",
       "      <td>1.4</td>\n",
       "      <td>15</td>\n",
       "      <td>0</td>\n",
       "      <td>0</td>\n",
       "      <td>0</td>\n",
       "      <td>0</td>\n",
       "    </tr>\n",
       "  </tbody>\n",
       "</table>\n",
       "</div>"
      ],
      "text/plain": [
       "            Date/Time      Lat      Lon    Base       Date  Temperature _Max  \\\n",
       "0 2014-04-01 00:11:00  40.7690 -73.9549  B02512 2014-04-01                60   \n",
       "1 2014-04-01 00:17:00  40.7267 -74.0345  B02512 2014-04-01                60   \n",
       "2 2014-04-01 00:21:00  40.7316 -73.9873  B02512 2014-04-01                60   \n",
       "3 2014-04-01 00:28:00  40.7588 -73.9776  B02512 2014-04-01                60   \n",
       "4 2014-04-01 00:33:00  40.7594 -73.9722  B02512 2014-04-01                60   \n",
       "\n",
       "   Temperature _Min  Temperature _Ave  Temperature _Dep  HDD  CDD  \\\n",
       "0                39              49.5               1.4   15    0   \n",
       "1                39              49.5               1.4   15    0   \n",
       "2                39              49.5               1.4   15    0   \n",
       "3                39              49.5               1.4   15    0   \n",
       "4                39              49.5               1.4   15    0   \n",
       "\n",
       "  Precipitation New Snow  Snow Depth  \n",
       "0             0        0           0  \n",
       "1             0        0           0  \n",
       "2             0        0           0  \n",
       "3             0        0           0  \n",
       "4             0        0           0  "
      ]
     },
     "execution_count": 22,
     "metadata": {},
     "output_type": "execute_result"
    }
   ],
   "source": [
    "\n",
    "\n",
    "# Convert the datetime column in Uber data to datetime format using .loc\n",
    "combined_df_cleaned.loc[:, 'Date/Time'] = pd.to_datetime(combined_df_cleaned['Date/Time'], format='%m/%d/%Y %H:%M:%S')\n",
    "\n",
    "# Extract the date part from the datetime using .loc\n",
    "combined_df_cleaned.loc[:, 'Date'] = combined_df_cleaned['Date/Time'].dt.date\n",
    "\n",
    "# Convert the date column to datetime format using .loc\n",
    "combined_df_cleaned.loc[:, 'Date'] = pd.to_datetime(combined_df_cleaned['Date'])\n",
    "\n",
    "df_Weather['Date'] = pd.to_datetime(df_Weather['Date'], format='%d/%m/%Y')\n",
    "\n",
    "\n",
    "\n",
    "# Merge the Uber data with the weather data on the date column\n",
    "merged_data = pd.merge(combined_df_cleaned, df_Weather, on='Date', how='left')\n",
    "\n",
    "#print(merged_data.head())\n",
    "merged_data.head()\n"
   ]
  },
  {
   "cell_type": "code",
   "execution_count": 23,
   "id": "77fe2e9b",
   "metadata": {},
   "outputs": [
    {
     "name": "stdout",
     "output_type": "stream",
     "text": [
      "Number of rows in merged_data: 4451746\n"
     ]
    }
   ],
   "source": [
    "# Count the number of rows in combined_df\n",
    "num_rows = len(merged_data)\n",
    "print(\"Number of rows in merged_data:\", num_rows)"
   ]
  },
  {
   "cell_type": "markdown",
   "id": "892a8bef",
   "metadata": {},
   "source": [
    "Check some Analysis"
   ]
  },
  {
   "cell_type": "code",
   "execution_count": 24,
   "id": "db9ab473",
   "metadata": {},
   "outputs": [
    {
     "name": "stdout",
     "output_type": "stream",
     "text": [
      "Daily Rides:\n",
      " Date\n",
      "2014-04-01    14376\n",
      "2014-04-02    17230\n",
      "2014-04-03    20482\n",
      "2014-04-04    26353\n",
      "2014-04-05    19273\n",
      "              ...  \n",
      "2014-09-26    36538\n",
      "2014-09-27    38424\n",
      "2014-09-28    28924\n",
      "2014-09-29    28478\n",
      "2014-09-30    32593\n",
      "Name: Base, Length: 183, dtype: int64\n"
     ]
    }
   ],
   "source": [
    "# Ride counts - Group by date\n",
    "daily_rides = merged_data.groupby('Date')['Base'].count()\n",
    "print(\"Daily Rides:\\n\", daily_rides)"
   ]
  },
  {
   "cell_type": "code",
   "execution_count": null,
   "id": "564e0033",
   "metadata": {},
   "outputs": [],
   "source": []
  },
  {
   "cell_type": "code",
   "execution_count": 25,
   "id": "d66453ae",
   "metadata": {},
   "outputs": [
    {
     "name": "stdout",
     "output_type": "stream",
     "text": [
      "Weekly Ride Counts:\n",
      "          Date  weekly_ride_count\n",
      "0  2014-04-06             110962\n",
      "1  2014-04-13             121736\n",
      "2  2014-04-20             114133\n",
      "3  2014-04-27             136432\n",
      "4  2014-05-04             156055\n",
      "5  2014-05-11             147905\n",
      "6  2014-05-18             154342\n",
      "7  2014-05-25             139359\n",
      "8  2014-06-01             133958\n",
      "9  2014-06-08             150257\n",
      "10 2014-06-15             164107\n",
      "11 2014-06-22             150820\n",
      "12 2014-06-29             154050\n",
      "13 2014-07-06             122159\n",
      "14 2014-07-13             175054\n",
      "15 2014-07-20             193857\n",
      "16 2014-07-27             195328\n",
      "17 2014-08-03             196297\n",
      "18 2014-08-10             189922\n",
      "19 2014-08-17             185516\n",
      "20 2014-08-24             182125\n",
      "21 2014-08-31             173273\n",
      "22 2014-09-07             227972\n",
      "23 2014-09-14             242483\n",
      "24 2014-09-21             243755\n",
      "25 2014-09-28             228818\n",
      "26 2014-10-05              61071\n"
     ]
    }
   ],
   "source": [
    "# Resample data to weekly and count rides\n",
    "weekly_rides = merged_data.resample('W', on='Date')['Base'].count().reset_index(name='weekly_ride_count')\n",
    "\n",
    "# Print the weekly ride counts\n",
    "print(\"Weekly Ride Counts:\\n\", weekly_rides)"
   ]
  },
  {
   "cell_type": "code",
   "execution_count": null,
   "id": "0c4cda6e",
   "metadata": {},
   "outputs": [],
   "source": []
  },
  {
   "cell_type": "code",
   "execution_count": null,
   "id": "feb0f445",
   "metadata": {},
   "outputs": [],
   "source": []
  },
  {
   "cell_type": "code",
   "execution_count": null,
   "id": "31a80458",
   "metadata": {},
   "outputs": [],
   "source": []
  },
  {
   "cell_type": "code",
   "execution_count": null,
   "id": "d9ae595b",
   "metadata": {},
   "outputs": [],
   "source": []
  },
  {
   "cell_type": "code",
   "execution_count": null,
   "id": "3ae1ed0f",
   "metadata": {},
   "outputs": [],
   "source": []
  }
 ],
 "metadata": {
  "kernelspec": {
   "display_name": "Python 3 (ipykernel)",
   "language": "python",
   "name": "python3"
  },
  "language_info": {
   "codemirror_mode": {
    "name": "ipython",
    "version": 3
   },
   "file_extension": ".py",
   "mimetype": "text/x-python",
   "name": "python",
   "nbconvert_exporter": "python",
   "pygments_lexer": "ipython3",
   "version": "3.10.14"
  }
 },
 "nbformat": 4,
 "nbformat_minor": 5
}
