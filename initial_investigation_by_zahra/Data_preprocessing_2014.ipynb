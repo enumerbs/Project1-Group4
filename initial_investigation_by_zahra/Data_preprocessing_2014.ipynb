{
 "cells": [
  {
   "cell_type": "markdown",
   "id": "7430acae",
   "metadata": {},
   "source": [
    "UberData"
   ]
  },
  {
   "cell_type": "code",
   "execution_count": 1,
   "id": "a97a679a",
   "metadata": {},
   "outputs": [
    {
     "data": {
      "text/html": [
       "<div>\n",
       "<style scoped>\n",
       "    .dataframe tbody tr th:only-of-type {\n",
       "        vertical-align: middle;\n",
       "    }\n",
       "\n",
       "    .dataframe tbody tr th {\n",
       "        vertical-align: top;\n",
       "    }\n",
       "\n",
       "    .dataframe thead th {\n",
       "        text-align: right;\n",
       "    }\n",
       "</style>\n",
       "<table border=\"1\" class=\"dataframe\">\n",
       "  <thead>\n",
       "    <tr style=\"text-align: right;\">\n",
       "      <th></th>\n",
       "      <th>Date/Time</th>\n",
       "      <th>Lat</th>\n",
       "      <th>Lon</th>\n",
       "      <th>Base</th>\n",
       "    </tr>\n",
       "  </thead>\n",
       "  <tbody>\n",
       "    <tr>\n",
       "      <th>0</th>\n",
       "      <td>4/1/2014 0:11:00</td>\n",
       "      <td>40.7690</td>\n",
       "      <td>-73.9549</td>\n",
       "      <td>B02512</td>\n",
       "    </tr>\n",
       "    <tr>\n",
       "      <th>1</th>\n",
       "      <td>4/1/2014 0:17:00</td>\n",
       "      <td>40.7267</td>\n",
       "      <td>-74.0345</td>\n",
       "      <td>B02512</td>\n",
       "    </tr>\n",
       "    <tr>\n",
       "      <th>2</th>\n",
       "      <td>4/1/2014 0:21:00</td>\n",
       "      <td>40.7316</td>\n",
       "      <td>-73.9873</td>\n",
       "      <td>B02512</td>\n",
       "    </tr>\n",
       "    <tr>\n",
       "      <th>3</th>\n",
       "      <td>4/1/2014 0:28:00</td>\n",
       "      <td>40.7588</td>\n",
       "      <td>-73.9776</td>\n",
       "      <td>B02512</td>\n",
       "    </tr>\n",
       "    <tr>\n",
       "      <th>4</th>\n",
       "      <td>4/1/2014 0:33:00</td>\n",
       "      <td>40.7594</td>\n",
       "      <td>-73.9722</td>\n",
       "      <td>B02512</td>\n",
       "    </tr>\n",
       "  </tbody>\n",
       "</table>\n",
       "</div>"
      ],
      "text/plain": [
       "          Date/Time      Lat      Lon    Base\n",
       "0  4/1/2014 0:11:00  40.7690 -73.9549  B02512\n",
       "1  4/1/2014 0:17:00  40.7267 -74.0345  B02512\n",
       "2  4/1/2014 0:21:00  40.7316 -73.9873  B02512\n",
       "3  4/1/2014 0:28:00  40.7588 -73.9776  B02512\n",
       "4  4/1/2014 0:33:00  40.7594 -73.9722  B02512"
      ]
     },
     "execution_count": 1,
     "metadata": {},
     "output_type": "execute_result"
    }
   ],
   "source": [
    "# 2014 Uberdata_ processing\n",
    "\n",
    "# Dependencies\n",
    "from pathlib import Path\n",
    "import pandas as pd\n",
    "\n",
    "\n",
    "# Path to 2014data CSV file \n",
    "Uber_trips_apr14 = Path(\"Raw_Data/uber-raw-data-apr14.csv\")\n",
    "Uber_trips_may14 = Path(\"Raw_Data/uber-raw-data-may14.csv\")\n",
    "Uber_trips_jun14 = Path(\"Raw_Data/uber-raw-data-jun14.csv\")\n",
    "Uber_trips_jul14 = Path(\"Raw_Data/uber-raw-data-jul14.csv\")\n",
    "Uber_trips_aug14 = Path(\"Raw_Data/uber-raw-data-aug14.csv\")\n",
    "Uber_trips_sep14 = Path(\"Raw_Data/uber-raw-data-sep14.csv\")\n",
    "\n",
    "\n",
    "# to check the data structure load the one of the CSV data into a DataFrame\n",
    "df_apr14 = pd.read_csv(Uber_trips_apr14)\n",
    "\n",
    "# Display the first few rows of the DataFrame\n",
    "\n",
    "df_apr14.head()\n",
    "\n",
    "\n",
    "\n",
    "\n"
   ]
  },
  {
   "cell_type": "code",
   "execution_count": 5,
   "id": "8e67084d",
   "metadata": {},
   "outputs": [
    {
     "data": {
      "text/html": [
       "<div>\n",
       "<style scoped>\n",
       "    .dataframe tbody tr th:only-of-type {\n",
       "        vertical-align: middle;\n",
       "    }\n",
       "\n",
       "    .dataframe tbody tr th {\n",
       "        vertical-align: top;\n",
       "    }\n",
       "\n",
       "    .dataframe thead th {\n",
       "        text-align: right;\n",
       "    }\n",
       "</style>\n",
       "<table border=\"1\" class=\"dataframe\">\n",
       "  <thead>\n",
       "    <tr style=\"text-align: right;\">\n",
       "      <th></th>\n",
       "      <th>Date/Time</th>\n",
       "      <th>Lat</th>\n",
       "      <th>Lon</th>\n",
       "      <th>Base</th>\n",
       "    </tr>\n",
       "  </thead>\n",
       "  <tbody>\n",
       "    <tr>\n",
       "      <th>0</th>\n",
       "      <td>4/1/2014 0:11:00</td>\n",
       "      <td>40.7690</td>\n",
       "      <td>-73.9549</td>\n",
       "      <td>B02512</td>\n",
       "    </tr>\n",
       "    <tr>\n",
       "      <th>1</th>\n",
       "      <td>4/1/2014 0:17:00</td>\n",
       "      <td>40.7267</td>\n",
       "      <td>-74.0345</td>\n",
       "      <td>B02512</td>\n",
       "    </tr>\n",
       "    <tr>\n",
       "      <th>2</th>\n",
       "      <td>4/1/2014 0:21:00</td>\n",
       "      <td>40.7316</td>\n",
       "      <td>-73.9873</td>\n",
       "      <td>B02512</td>\n",
       "    </tr>\n",
       "    <tr>\n",
       "      <th>3</th>\n",
       "      <td>4/1/2014 0:28:00</td>\n",
       "      <td>40.7588</td>\n",
       "      <td>-73.9776</td>\n",
       "      <td>B02512</td>\n",
       "    </tr>\n",
       "    <tr>\n",
       "      <th>4</th>\n",
       "      <td>4/1/2014 0:33:00</td>\n",
       "      <td>40.7594</td>\n",
       "      <td>-73.9722</td>\n",
       "      <td>B02512</td>\n",
       "    </tr>\n",
       "  </tbody>\n",
       "</table>\n",
       "</div>"
      ],
      "text/plain": [
       "          Date/Time      Lat      Lon    Base\n",
       "0  4/1/2014 0:11:00  40.7690 -73.9549  B02512\n",
       "1  4/1/2014 0:17:00  40.7267 -74.0345  B02512\n",
       "2  4/1/2014 0:21:00  40.7316 -73.9873  B02512\n",
       "3  4/1/2014 0:28:00  40.7588 -73.9776  B02512\n",
       "4  4/1/2014 0:33:00  40.7594 -73.9722  B02512"
      ]
     },
     "execution_count": 5,
     "metadata": {},
     "output_type": "execute_result"
    }
   ],
   "source": [
    "# Read all CSV file into DataFrame\n",
    "df_apr14 = pd.read_csv(Uber_trips_apr14)\n",
    "df_may14 = pd.read_csv(Uber_trips_may14)\n",
    "df_jun14 = pd.read_csv(Uber_trips_jun14)\n",
    "df_jul14 = pd.read_csv(Uber_trips_jul14)\n",
    "df_aug14 = pd.read_csv(Uber_trips_aug14)\n",
    "df_sep14 = pd.read_csv(Uber_trips_sep14)\n",
    "\n",
    "# Concatenate all DataFrames into one\n",
    "combined_df = pd.concat([df_apr14, df_may14, df_jun14, df_jul14, df_aug14, df_sep14], ignore_index=True)\n",
    "\n",
    "combined_df.head()\n",
    "\n"
   ]
  },
  {
   "cell_type": "code",
   "execution_count": 6,
   "id": "a80ed582",
   "metadata": {},
   "outputs": [
    {
     "name": "stdout",
     "output_type": "stream",
     "text": [
      "Number of rows in combined_df: 4534327\n"
     ]
    }
   ],
   "source": [
    "# Count the number of rows in combined_df\n",
    "num_rows = len(combined_df)\n",
    "print(\"Number of rows in combined_df:\", num_rows)"
   ]
  },
  {
   "cell_type": "code",
   "execution_count": 7,
   "id": "98dbed80",
   "metadata": {},
   "outputs": [
    {
     "name": "stdout",
     "output_type": "stream",
     "text": [
      "Missing data counts:\n",
      "Date/Time    0\n",
      "Lat          0\n",
      "Lon          0\n",
      "Base         0\n",
      "dtype: int64\n"
     ]
    }
   ],
   "source": [
    "# Check for missing data\n",
    "missing_data = combined_df.isnull()\n",
    "\n",
    "# Summarize missing data counts\n",
    "missing_counts = missing_data.sum()\n",
    "\n",
    "# Print or use missing_counts as needed\n",
    "print(\"Missing data counts:\")\n",
    "print(missing_counts)"
   ]
  },
  {
   "cell_type": "code",
   "execution_count": 8,
   "id": "b04ca5b2",
   "metadata": {},
   "outputs": [
    {
     "name": "stdout",
     "output_type": "stream",
     "text": [
      "Number of duplicate rows in combined_df: 82581\n"
     ]
    }
   ],
   "source": [
    "# Check for duplicates\n",
    "duplicates = combined_df.duplicated()\n",
    "\n",
    "# Count the number of duplicates\n",
    "num_duplicates = duplicates.sum()\n",
    "\n",
    "# Print or use num_duplicates as needed\n",
    "print(\"Number of duplicate rows in combined_df:\", num_duplicates)\n"
   ]
  },
  {
   "cell_type": "code",
   "execution_count": 9,
   "id": "81b410b9",
   "metadata": {},
   "outputs": [
    {
     "name": "stdout",
     "output_type": "stream",
     "text": [
      "Shape of cleaned DataFrame: (4451746, 4)\n"
     ]
    }
   ],
   "source": [
    "# Remove duplicates- check with others whether it's a correct approach\n",
    "combined_df_cleaned = combined_df.drop_duplicates().copy()\n",
    "\n",
    "# Print the shape to see how many rows are left after removing duplicates\n",
    "print(\"Shape of cleaned DataFrame:\", combined_df_cleaned.shape)\n",
    "\n",
    "combined_df_cleaned = combined_df.drop_duplicates().copy()\n"
   ]
  },
  {
   "cell_type": "code",
   "execution_count": 21,
   "id": "208538ba",
   "metadata": {},
   "outputs": [
    {
     "data": {
      "text/html": [
       "<div>\n",
       "<style scoped>\n",
       "    .dataframe tbody tr th:only-of-type {\n",
       "        vertical-align: middle;\n",
       "    }\n",
       "\n",
       "    .dataframe tbody tr th {\n",
       "        vertical-align: top;\n",
       "    }\n",
       "\n",
       "    .dataframe thead th {\n",
       "        text-align: right;\n",
       "    }\n",
       "</style>\n",
       "<table border=\"1\" class=\"dataframe\">\n",
       "  <thead>\n",
       "    <tr style=\"text-align: right;\">\n",
       "      <th></th>\n",
       "      <th>Date/Time</th>\n",
       "      <th>Lat</th>\n",
       "      <th>Lon</th>\n",
       "      <th>Base</th>\n",
       "    </tr>\n",
       "  </thead>\n",
       "  <tbody>\n",
       "    <tr>\n",
       "      <th>0</th>\n",
       "      <td>4/1/2014 0:11:00</td>\n",
       "      <td>40.7690</td>\n",
       "      <td>-73.9549</td>\n",
       "      <td>B02512</td>\n",
       "    </tr>\n",
       "    <tr>\n",
       "      <th>1</th>\n",
       "      <td>4/1/2014 0:17:00</td>\n",
       "      <td>40.7267</td>\n",
       "      <td>-74.0345</td>\n",
       "      <td>B02512</td>\n",
       "    </tr>\n",
       "    <tr>\n",
       "      <th>2</th>\n",
       "      <td>4/1/2014 0:21:00</td>\n",
       "      <td>40.7316</td>\n",
       "      <td>-73.9873</td>\n",
       "      <td>B02512</td>\n",
       "    </tr>\n",
       "    <tr>\n",
       "      <th>3</th>\n",
       "      <td>4/1/2014 0:28:00</td>\n",
       "      <td>40.7588</td>\n",
       "      <td>-73.9776</td>\n",
       "      <td>B02512</td>\n",
       "    </tr>\n",
       "    <tr>\n",
       "      <th>4</th>\n",
       "      <td>4/1/2014 0:33:00</td>\n",
       "      <td>40.7594</td>\n",
       "      <td>-73.9722</td>\n",
       "      <td>B02512</td>\n",
       "    </tr>\n",
       "  </tbody>\n",
       "</table>\n",
       "</div>"
      ],
      "text/plain": [
       "          Date/Time      Lat      Lon    Base\n",
       "0  4/1/2014 0:11:00  40.7690 -73.9549  B02512\n",
       "1  4/1/2014 0:17:00  40.7267 -74.0345  B02512\n",
       "2  4/1/2014 0:21:00  40.7316 -73.9873  B02512\n",
       "3  4/1/2014 0:28:00  40.7588 -73.9776  B02512\n",
       "4  4/1/2014 0:33:00  40.7594 -73.9722  B02512"
      ]
     },
     "execution_count": 21,
     "metadata": {},
     "output_type": "execute_result"
    }
   ],
   "source": [
    "combined_df_cleaned.head()\n",
    "\n"
   ]
  },
  {
   "cell_type": "code",
   "execution_count": 10,
   "id": "db9ab473",
   "metadata": {},
   "outputs": [
    {
     "data": {
      "text/html": [
       "<div>\n",
       "<style scoped>\n",
       "    .dataframe tbody tr th:only-of-type {\n",
       "        vertical-align: middle;\n",
       "    }\n",
       "\n",
       "    .dataframe tbody tr th {\n",
       "        vertical-align: top;\n",
       "    }\n",
       "\n",
       "    .dataframe thead th {\n",
       "        text-align: right;\n",
       "    }\n",
       "</style>\n",
       "<table border=\"1\" class=\"dataframe\">\n",
       "  <thead>\n",
       "    <tr style=\"text-align: right;\">\n",
       "      <th></th>\n",
       "      <th>Date/Time</th>\n",
       "      <th>Lat</th>\n",
       "      <th>Lon</th>\n",
       "      <th>Base</th>\n",
       "    </tr>\n",
       "  </thead>\n",
       "  <tbody>\n",
       "    <tr>\n",
       "      <th>4534322</th>\n",
       "      <td>9/30/2014 22:57:00</td>\n",
       "      <td>40.7668</td>\n",
       "      <td>-73.9845</td>\n",
       "      <td>B02764</td>\n",
       "    </tr>\n",
       "    <tr>\n",
       "      <th>4534323</th>\n",
       "      <td>9/30/2014 22:57:00</td>\n",
       "      <td>40.6911</td>\n",
       "      <td>-74.1773</td>\n",
       "      <td>B02764</td>\n",
       "    </tr>\n",
       "    <tr>\n",
       "      <th>4534324</th>\n",
       "      <td>9/30/2014 22:58:00</td>\n",
       "      <td>40.8519</td>\n",
       "      <td>-73.9319</td>\n",
       "      <td>B02764</td>\n",
       "    </tr>\n",
       "    <tr>\n",
       "      <th>4534325</th>\n",
       "      <td>9/30/2014 22:58:00</td>\n",
       "      <td>40.7081</td>\n",
       "      <td>-74.0066</td>\n",
       "      <td>B02764</td>\n",
       "    </tr>\n",
       "    <tr>\n",
       "      <th>4534326</th>\n",
       "      <td>9/30/2014 22:58:00</td>\n",
       "      <td>40.7140</td>\n",
       "      <td>-73.9496</td>\n",
       "      <td>B02764</td>\n",
       "    </tr>\n",
       "  </tbody>\n",
       "</table>\n",
       "</div>"
      ],
      "text/plain": [
       "                  Date/Time      Lat      Lon    Base\n",
       "4534322  9/30/2014 22:57:00  40.7668 -73.9845  B02764\n",
       "4534323  9/30/2014 22:57:00  40.6911 -74.1773  B02764\n",
       "4534324  9/30/2014 22:58:00  40.8519 -73.9319  B02764\n",
       "4534325  9/30/2014 22:58:00  40.7081 -74.0066  B02764\n",
       "4534326  9/30/2014 22:58:00  40.7140 -73.9496  B02764"
      ]
     },
     "execution_count": 10,
     "metadata": {},
     "output_type": "execute_result"
    }
   ],
   "source": [
    "combined_df_cleaned.tail()"
   ]
  },
  {
   "cell_type": "code",
   "execution_count": 11,
   "id": "564e0033",
   "metadata": {},
   "outputs": [
    {
     "name": "stdout",
     "output_type": "stream",
     "text": [
      "Number of unique rows based on 'Date/Time', 'Lat', 'Lon', 'Base': 4451746\n"
     ]
    }
   ],
   "source": [
    "# OPTION: I crossed check the duplicate with an alternative method. Drop duplicate rows based on specific columns and count unique rows\n",
    "unique_rows = combined_df.drop_duplicates(subset=['Date/Time', 'Lat', 'Lon', 'Base']).shape[0]\n",
    "\n",
    "print(\"Number of unique rows based on 'Date/Time', 'Lat', 'Lon', 'Base':\", unique_rows)"
   ]
  },
  {
   "cell_type": "code",
   "execution_count": 16,
   "id": "0c4cda6e",
   "metadata": {},
   "outputs": [
    {
     "data": {
      "text/html": [
       "<div>\n",
       "<style scoped>\n",
       "    .dataframe tbody tr th:only-of-type {\n",
       "        vertical-align: middle;\n",
       "    }\n",
       "\n",
       "    .dataframe tbody tr th {\n",
       "        vertical-align: top;\n",
       "    }\n",
       "\n",
       "    .dataframe thead th {\n",
       "        text-align: right;\n",
       "    }\n",
       "</style>\n",
       "<table border=\"1\" class=\"dataframe\">\n",
       "  <thead>\n",
       "    <tr style=\"text-align: right;\">\n",
       "      <th></th>\n",
       "      <th>Dispatching_base_num</th>\n",
       "      <th>Pickup_date</th>\n",
       "      <th>Affiliated_base_num</th>\n",
       "      <th>locationID</th>\n",
       "    </tr>\n",
       "  </thead>\n",
       "  <tbody>\n",
       "    <tr>\n",
       "      <th>0</th>\n",
       "      <td>B02617</td>\n",
       "      <td>2015-05-17 09:47:00</td>\n",
       "      <td>B02617</td>\n",
       "      <td>141</td>\n",
       "    </tr>\n",
       "    <tr>\n",
       "      <th>1</th>\n",
       "      <td>B02617</td>\n",
       "      <td>2015-05-17 09:47:00</td>\n",
       "      <td>B02617</td>\n",
       "      <td>65</td>\n",
       "    </tr>\n",
       "    <tr>\n",
       "      <th>2</th>\n",
       "      <td>B02617</td>\n",
       "      <td>2015-05-17 09:47:00</td>\n",
       "      <td>B02617</td>\n",
       "      <td>100</td>\n",
       "    </tr>\n",
       "    <tr>\n",
       "      <th>3</th>\n",
       "      <td>B02617</td>\n",
       "      <td>2015-05-17 09:47:00</td>\n",
       "      <td>B02774</td>\n",
       "      <td>80</td>\n",
       "    </tr>\n",
       "    <tr>\n",
       "      <th>4</th>\n",
       "      <td>B02617</td>\n",
       "      <td>2015-05-17 09:47:00</td>\n",
       "      <td>B02617</td>\n",
       "      <td>90</td>\n",
       "    </tr>\n",
       "  </tbody>\n",
       "</table>\n",
       "</div>"
      ],
      "text/plain": [
       "  Dispatching_base_num          Pickup_date Affiliated_base_num  locationID\n",
       "0               B02617  2015-05-17 09:47:00              B02617         141\n",
       "1               B02617  2015-05-17 09:47:00              B02617          65\n",
       "2               B02617  2015-05-17 09:47:00              B02617         100\n",
       "3               B02617  2015-05-17 09:47:00              B02774          80\n",
       "4               B02617  2015-05-17 09:47:00              B02617          90"
      ]
     },
     "execution_count": 16,
     "metadata": {},
     "output_type": "execute_result"
    }
   ],
   "source": [
    "#2015 data_data1\n",
    "Uber_trips_janjune_15 = Path(\"Raw_Data/uber-raw-data-janjune-15.csv\")\n",
    "\n",
    "# Load the CSV data into a DataFrame\n",
    "df1 = pd.read_csv(Uber_trips_janjune_15)\n",
    "df1.head()\n",
    "\n"
   ]
  },
  {
   "cell_type": "code",
   "execution_count": 15,
   "id": "feb0f445",
   "metadata": {},
   "outputs": [
    {
     "data": {
      "text/html": [
       "<div>\n",
       "<style scoped>\n",
       "    .dataframe tbody tr th:only-of-type {\n",
       "        vertical-align: middle;\n",
       "    }\n",
       "\n",
       "    .dataframe tbody tr th {\n",
       "        vertical-align: top;\n",
       "    }\n",
       "\n",
       "    .dataframe thead th {\n",
       "        text-align: right;\n",
       "    }\n",
       "</style>\n",
       "<table border=\"1\" class=\"dataframe\">\n",
       "  <thead>\n",
       "    <tr style=\"text-align: right;\">\n",
       "      <th></th>\n",
       "      <th>dispatching_base_number</th>\n",
       "      <th>date</th>\n",
       "      <th>active_vehicles</th>\n",
       "      <th>trips</th>\n",
       "    </tr>\n",
       "  </thead>\n",
       "  <tbody>\n",
       "    <tr>\n",
       "      <th>0</th>\n",
       "      <td>B02512</td>\n",
       "      <td>1/1/2015</td>\n",
       "      <td>190</td>\n",
       "      <td>1132</td>\n",
       "    </tr>\n",
       "    <tr>\n",
       "      <th>1</th>\n",
       "      <td>B02765</td>\n",
       "      <td>1/1/2015</td>\n",
       "      <td>225</td>\n",
       "      <td>1765</td>\n",
       "    </tr>\n",
       "    <tr>\n",
       "      <th>2</th>\n",
       "      <td>B02764</td>\n",
       "      <td>1/1/2015</td>\n",
       "      <td>3427</td>\n",
       "      <td>29421</td>\n",
       "    </tr>\n",
       "    <tr>\n",
       "      <th>3</th>\n",
       "      <td>B02682</td>\n",
       "      <td>1/1/2015</td>\n",
       "      <td>945</td>\n",
       "      <td>7679</td>\n",
       "    </tr>\n",
       "    <tr>\n",
       "      <th>4</th>\n",
       "      <td>B02617</td>\n",
       "      <td>1/1/2015</td>\n",
       "      <td>1228</td>\n",
       "      <td>9537</td>\n",
       "    </tr>\n",
       "  </tbody>\n",
       "</table>\n",
       "</div>"
      ],
      "text/plain": [
       "  dispatching_base_number      date  active_vehicles  trips\n",
       "0                  B02512  1/1/2015              190   1132\n",
       "1                  B02765  1/1/2015              225   1765\n",
       "2                  B02764  1/1/2015             3427  29421\n",
       "3                  B02682  1/1/2015              945   7679\n",
       "4                  B02617  1/1/2015             1228   9537"
      ]
     },
     "execution_count": 15,
     "metadata": {},
     "output_type": "execute_result"
    }
   ],
   "source": [
    "#2015 data_data2: Uber_trips_JanFeb_15\n",
    "Uber_trips_JanFeb_15= Path(\"Raw_Data/Uber-Jan-Feb-FOIL.csv\")\n",
    "\n",
    "# Load the CSV data into a DataFrame\n",
    "df2 = pd.read_csv(Uber_trips_JanFeb_15)\n",
    "df2.head()\n"
   ]
  },
  {
   "cell_type": "code",
   "execution_count": null,
   "id": "31a80458",
   "metadata": {},
   "outputs": [],
   "source": []
  },
  {
   "cell_type": "code",
   "execution_count": null,
   "id": "d9ae595b",
   "metadata": {},
   "outputs": [],
   "source": []
  },
  {
   "cell_type": "code",
   "execution_count": null,
   "id": "3ae1ed0f",
   "metadata": {},
   "outputs": [],
   "source": []
  }
 ],
 "metadata": {
  "kernelspec": {
   "display_name": "Python 3 (ipykernel)",
   "language": "python",
   "name": "python3"
  },
  "language_info": {
   "codemirror_mode": {
    "name": "ipython",
    "version": 3
   },
   "file_extension": ".py",
   "mimetype": "text/x-python",
   "name": "python",
   "nbconvert_exporter": "python",
   "pygments_lexer": "ipython3",
   "version": "3.10.14"
  }
 },
 "nbformat": 4,
 "nbformat_minor": 5
}
